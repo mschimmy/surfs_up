{
 "cells": [
  {
   "cell_type": "code",
   "execution_count": 1,
   "id": "abfc9358",
   "metadata": {},
   "outputs": [],
   "source": [
    "#9.5.1 import dependencies\n",
    "import datetime as dt\n",
    "import numpy as np\n",
    "import pandas as pd"
   ]
  },
  {
   "cell_type": "code",
   "execution_count": 2,
   "id": "5781e742",
   "metadata": {},
   "outputs": [],
   "source": [
    "#9.5.1 import SQLAlchemy dependencies\n",
    "import sqlalchemy\n",
    "from sqlalchemy.ext.automap import automap_base\n",
    "from sqlalchemy.orm import Session\n",
    "from sqlalchemy import create_engine"
   ]
  },
  {
   "cell_type": "code",
   "execution_count": 3,
   "id": "6dfd0067",
   "metadata": {},
   "outputs": [],
   "source": [
    "#9.5.1 import Flask dependencies\n",
    "from flask import Flask, jsonify"
   ]
  },
  {
   "cell_type": "code",
   "execution_count": 4,
   "id": "cc561216",
   "metadata": {},
   "outputs": [],
   "source": [
    "#9.5.1 access the SQLite database\n",
    "engine = create_engine(\"sqlite:///hawaii.sqlite\")"
   ]
  },
  {
   "cell_type": "code",
   "execution_count": 5,
   "id": "6bfad8ba",
   "metadata": {},
   "outputs": [],
   "source": [
    "#9.5.1 reflect the database into classes\n",
    "Base = automap_base()"
   ]
  },
  {
   "cell_type": "code",
   "execution_count": 6,
   "id": "fa089388",
   "metadata": {},
   "outputs": [],
   "source": [
    "#9.5.1 reflect the database\n",
    "Base.prepare(engine, reflect=True)"
   ]
  },
  {
   "cell_type": "code",
   "execution_count": 7,
   "id": "193a0891",
   "metadata": {},
   "outputs": [],
   "source": [
    "#9.5.1 save the references to each table/class\n",
    "Measurement = Base.classes.measurement\n",
    "Station = Base.classes.station"
   ]
  },
  {
   "cell_type": "code",
   "execution_count": 8,
   "id": "7a0b5f78",
   "metadata": {},
   "outputs": [],
   "source": [
    "#9.5.1 create a session link from python to the database\n",
    "session = Session(engine)"
   ]
  },
  {
   "cell_type": "code",
   "execution_count": null,
   "id": "d6bdc96f",
   "metadata": {},
   "outputs": [],
   "source": [
    "#9.5.1 set up and define the Flask app\n",
    "app = Flask(__name__)"
   ]
  }
 ],
 "metadata": {
  "kernelspec": {
   "display_name": "PythonData",
   "language": "python",
   "name": "pythondata"
  },
  "language_info": {
   "codemirror_mode": {
    "name": "ipython",
    "version": 3
   },
   "file_extension": ".py",
   "mimetype": "text/x-python",
   "name": "python",
   "nbconvert_exporter": "python",
   "pygments_lexer": "ipython3",
   "version": "3.9.12"
  }
 },
 "nbformat": 4,
 "nbformat_minor": 5
}
